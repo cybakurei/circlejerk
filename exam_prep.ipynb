{
 "cells": [
  {
   "cell_type": "markdown",
   "id": "proud-lafayette",
   "metadata": {},
   "source": [
    "Uebungsklausur 2023"
   ]
  },
  {
   "cell_type": "markdown",
   "id": "frank-punch",
   "metadata": {},
   "source": [
    "Aufgabe 1)"
   ]
  },
  {
   "cell_type": "code",
   "execution_count": null,
   "id": "cordless-helping",
   "metadata": {},
   "outputs": [],
   "source": [
    "#imports\n",
    "import functools"
   ]
  },
  {
   "cell_type": "code",
   "execution_count": 1,
   "id": "social-enemy",
   "metadata": {
    "scrolled": true
   },
   "outputs": [
    {
     "name": "stdout",
     "output_type": "stream",
     "text": [
      "hello\n",
      "[1, '2', 3]\n",
      "aus\n",
      "4\n",
      "W.e.l.t\n",
      "5\n",
      "[2, 3, 4, 2]\n",
      "<class 'bool'>\n",
      "33\n",
      "False\n",
      "True\n"
     ]
    }
   ],
   "source": [
    "print(True and \"hello\") #Bei True immer zweiter Wert\n",
    "print([1]+[\"2\", 3]) #Listen werden wie Strings addiert\n",
    "print(\"Klausur\"[2:5]) #rechte Grenze ausgeschlossen\n",
    "print(4 if True else 1/0) #Statement '4' ist True\n",
    "print(functools.reduce(lambda x,y: x+'.'+y, 'Welt')) #erster Durchlauf x=W y=e, dann x=l y=t\n",
    "print([['hello','welt',1],2,3,{4:5}][-1][4]) #[-1] letztes Element [4] bei dict Values mit Key=4\n",
    "print(list(map(len,[[1,2],\"hey\",range(4),(2,3)]))) \n",
    "#map wendet Funktion auf alle Elemente an, returned iterator deswegen Cast zu Liste\n",
    "print((True and type) (False and type)) #(True and type)=(type), (False and type)=(False): (type)(False)=boolean\n",
    "print((lambda x,y,z: x(x(y)) + z(z(y)))(lambda x: 2*x,7,lambda x: x-1)) #NOCHMAL ANSCHAUEN\n",
    "print(False and (1/0)) #False und irgendwas immer false\n",
    "print(\"aalen\" < \"albstadt\") #vergleicht nicht Laenge sondern ascii, 1.Stelle gleich ('a'), aber ascii 'a' < 'l'"
   ]
  },
  {
   "cell_type": "markdown",
   "id": "moving-transsexual",
   "metadata": {},
   "source": [
    "Aufgabe 2)"
   ]
  },
  {
   "cell_type": "code",
   "execution_count": 2,
   "id": "approximate-latino",
   "metadata": {},
   "outputs": [
    {
     "name": "stdout",
     "output_type": "stream",
     "text": [
      "False\n",
      "True\n"
     ]
    }
   ],
   "source": [
    "def isAlpha(astring):\n",
    "    for aletter in astring:\n",
    "        if aletter not in \"0123456789\":\n",
    "            continue\n",
    "        else:\n",
    "            return False\n",
    "    return True\n",
    "\n",
    "print(isAlpha(\"mitZahl4\"))\n",
    "print(isAlpha(\"ohneZahl\"))"
   ]
  },
  {
   "cell_type": "code",
   "execution_count": 3,
   "id": "impressed-aside",
   "metadata": {},
   "outputs": [
    {
     "name": "stdout",
     "output_type": "stream",
     "text": [
      "None\n",
      "3\n"
     ]
    }
   ],
   "source": [
    "def myFind(firststr, secondstr):\n",
    "    if firststr in secondstr:\n",
    "        aindex = 0\n",
    "        for aletter in firststr:\n",
    "            for bletter in secondstr:\n",
    "                aindex += 1\n",
    "                if aletter == bletter:\n",
    "                    return aindex\n",
    "                else:\n",
    "                    continue\n",
    "        return -1\n",
    "\n",
    "print(myFind(\"100\", \"hello\"))\n",
    "print(myFind(\"llo\", \"hello\"))"
   ]
  },
  {
   "cell_type": "code",
   "execution_count": 4,
   "id": "incredible-assault",
   "metadata": {},
   "outputs": [
    {
     "data": {
      "text/plain": [
       "['Dollar', 'Euro', 'Pound', 'Yen']"
      ]
     },
     "execution_count": 4,
     "metadata": {},
     "output_type": "execute_result"
    }
   ],
   "source": [
    "def myAppend(anelement, alist):\n",
    "    return alist+[anelement]\n",
    "\n",
    "liste = ['Dollar', 'Euro', 'Pound']\n",
    "myAppend('Yen', liste)"
   ]
  },
  {
   "cell_type": "code",
   "execution_count": 5,
   "id": "answering-pledge",
   "metadata": {},
   "outputs": [
    {
     "data": {
      "text/plain": [
       "[3, 5, 7, 4, 12]"
      ]
     },
     "execution_count": 5,
     "metadata": {},
     "output_type": "execute_result"
    }
   ],
   "source": [
    "def myRemove(anelement,alist):\n",
    "    index=-1\n",
    "    for aletter in alist:\n",
    "        index+=1\n",
    "        if aletter == anelement:\n",
    "            alist.pop(index)\n",
    "            return alist\n",
    "        else:\n",
    "            continue\n",
    "\n",
    "liste = [3,4,5,7,4,12]\n",
    "myRemove(4, liste)"
   ]
  },
  {
   "cell_type": "code",
   "execution_count": 6,
   "id": "acoustic-driver",
   "metadata": {},
   "outputs": [
    {
     "data": {
      "text/plain": [
       "[1, 2]"
      ]
     },
     "execution_count": 6,
     "metadata": {},
     "output_type": "execute_result"
    }
   ],
   "source": [
    "def myKeys(adict):\n",
    "    returnstring = []\n",
    "    for akey in adict:\n",
    "        returnstring.append(akey)\n",
    "    return returnstring\n",
    "\n",
    "d = {1:\"hallo\", 2:\"welt\"}\n",
    "myKeys(d)"
   ]
  },
  {
   "cell_type": "code",
   "execution_count": 7,
   "id": "accompanied-simpson",
   "metadata": {},
   "outputs": [
    {
     "data": {
      "text/plain": [
       "['hallo', 'welt']"
      ]
     },
     "execution_count": 7,
     "metadata": {},
     "output_type": "execute_result"
    }
   ],
   "source": [
    "def myValues(adict):\n",
    "    returnstring = []\n",
    "    for akey in adict:\n",
    "        returnstring.append(adict[akey])\n",
    "    return returnstring\n",
    "\n",
    "d = {1:\"hallo\", 2:\"welt\"}\n",
    "myValues(d)"
   ]
  },
  {
   "cell_type": "code",
   "execution_count": 8,
   "id": "studied-peter",
   "metadata": {},
   "outputs": [
    {
     "data": {
      "text/plain": [
       "[9, 7, 4, 2]"
      ]
     },
     "execution_count": 8,
     "metadata": {},
     "output_type": "execute_result"
    }
   ],
   "source": [
    "def myReverse(alist):\n",
    "    alist = alist[::-1]\n",
    "    return alist\n",
    "\n",
    "liste = [2,4,7,9]\n",
    "myReverse(liste)"
   ]
  },
  {
   "cell_type": "code",
   "execution_count": 5,
   "id": "physical-robinson",
   "metadata": {},
   "outputs": [
    {
     "data": {
      "text/plain": [
       "False"
      ]
     },
     "execution_count": 5,
     "metadata": {},
     "output_type": "execute_result"
    }
   ],
   "source": [
    "# FALSCH\n",
    "def myStartswith(firststr, secstr):\n",
    "    for aletter in secstr:\n",
    "        for bletter in firststr:\n",
    "            if aletter == bletter:\n",
    "                continue\n",
    "            else:\n",
    "                return False\n",
    "    return True\n",
    "\n",
    "myStartswith(\"Test\", \"T\")"
   ]
  },
  {
   "cell_type": "markdown",
   "id": "third-graham",
   "metadata": {},
   "source": [
    "Aufgabe 3)"
   ]
  },
  {
   "cell_type": "code",
   "execution_count": 31,
   "id": "pharmaceutical-length",
   "metadata": {},
   "outputs": [
    {
     "name": "stdout",
     "output_type": "stream",
     "text": [
      "[8, 11, 6]\n",
      "tda\n",
      "True\n",
      "75\n",
      "[False, False, 'das', 'bin', 'ich']\n",
      "['Welt', 'Hallo']\n",
      "['Hallole', 'Pferdle']\n",
      "[(0, 'a'), (0, 'b'), (0, 'c'), (6, 'a'), (6, 'b'), (6, 'c')]\n",
      "['bin', 'ich', 'und']\n",
      "[9, 7, 5, 3, 1]\n",
      "9\n",
      "[2, 'y', 3, 3]\n"
     ]
    }
   ],
   "source": [
    "print([i+j for i,j in [(3,5),(2,9),(2,4)]]) #Werte in den Tupeln werden jeweils miteinander addiert\n",
    "print(\"albstadt\"[-3:][::-1]) #String ab drittletztem Char, Ausgabe rückwärts\n",
    "print(all(x in range(10) for x in range(5))) #int immer true, all bei allen True returned True\n",
    "#print(list((x in range(10) for x in range(5)))) #Verständnis\n",
    "print((12+13)*3) #erst innere Klammer dann aeußere aufgeloest\n",
    "print([w if len(w)<4 else False for w in \"hallo welt das bin ich\".split()])\n",
    "#woerter mit mehr als 4 Buchstaben sonst False\n",
    "print(\"Hallo Welt\".split()[::-1]) #split String in Liste, separiert default bei Leerzeichen (davon letzte Element)\n",
    "print(list(filter(lambda x:x.endswith('e'), \"Hallole ich bin das Pferdle\".split())))\n",
    "#filter(sortierfunkt, input) alle Woerter(split) mit e am Ende; (das list ist nur hier damit man was sieht)\n",
    "print([(e,f) for e in range(0,8,2) for f in \"abc\" if e%3==0])\n",
    "#e: [2,4,6,8], 3 und 6 erfuellen die Bedingungen, wegen f jeweils drei Mal (String mit 3 Chars)\n",
    "print(list(filter(lambda w: len(w)<4, \"Hallo Welt hier bin ich und tippe\".split()))) #Alle Woerte(split)<4Buchstaben\n",
    "print(list(range(10))[::-2]) #[0,1,2,3,4,5,6,7,8,9] mit negativer Schrittgroesse\n",
    "print((lambda f,i:f(f(i))+1)(lambda x:x*2, 2)) #NOCH NICHT VERSTANDEN\n",
    "print(list(map(max, [[1,2], \"hey\", range(4), (2,3)]))) #max jedes Wertes: 2>1(int), y groesst. ascii, 1<2<3, 2>3\n"
   ]
  },
  {
   "cell_type": "markdown",
   "id": "narrow-search",
   "metadata": {},
   "source": [
    "Aufgabe 4)"
   ]
  },
  {
   "cell_type": "code",
   "execution_count": 40,
   "id": "enclosed-guidance",
   "metadata": {
    "scrolled": true
   },
   "outputs": [
    {
     "name": "stdout",
     "output_type": "stream",
     "text": [
      "10\n",
      "['hello', 'hi']\n",
      "[0, 0, 1, 1, 2, 2, 3, 3, 4, 4]\n",
      "[0, 1, 2, 3, 4, 5, 6, 7, 8, 9]\n"
     ]
    }
   ],
   "source": [
    "print(sum([x for x in range(5)]))\n",
    "print([word for word in \"hello Welt Hey hi\".split() if word.startswith(\"h\")])\n",
    "print([x//2 for x in range(10)])\n",
    "print([x for x in range(10)])"
   ]
  },
  {
   "cell_type": "markdown",
   "id": "eligible-nudist",
   "metadata": {},
   "source": [
    "Aufgabe 5)"
   ]
  },
  {
   "cell_type": "markdown",
   "id": "alternate-nowhere",
   "metadata": {},
   "source": [
    "Wofür steht DRY? Don't repeat yourself: Code der sich wiederholt in Methoden auslagern\n",
    "Wofür steht KISS? Keep it simple stupid: Code möglichst einfach halten und Verkomplizierungen vermeiden\n",
    "Was bedeutet PEP8, nennen Sie 2 Beispiele:\n",
    "PEP8 ist eine Orientierung, bzw. ein Vorschlag, in welchem Stil man Python programmieren sollte. Es wird zum Beispiel empfohlen, dass eine Zeile nie laenger als 79 Zeichen sein sollte und das Leerzeichen zur Intendation den Tabs zu bevorzugen sind, sowie dass Imports in seperate Zeilen und nicht via Komma getrennt sein sollten"
   ]
  },
  {
   "cell_type": "markdown",
   "id": "hollywood-intro",
   "metadata": {},
   "source": [
    "Aufgabe 6)"
   ]
  },
  {
   "cell_type": "code",
   "execution_count": 89,
   "id": "registered-development",
   "metadata": {},
   "outputs": [],
   "source": [
    "class Graph:\n",
    "    \n",
    "    \n",
    "    def __init__(self, nodes):\n",
    "        self.nodes = {}\n",
    "        \n",
    "        for node in nodes:\n",
    "            self.nodes[node] = []\n",
    "    \n",
    "    def addNode(self,k):\n",
    "        if k not in self.nodes:\n",
    "            self.nodes[k] = []\n",
    "            \n",
    "    def addEdge(self,k,j):\n",
    "        if k in self.nodes and j in self.nodes:\n",
    "            if j not in self.nodes[k]:\n",
    "                self.nodes[k].append(j)\n",
    "    \n",
    "    def V(self):\n",
    "        return list(self.nodes.keys())"
   ]
  },
  {
   "cell_type": "code",
   "execution_count": 88,
   "id": "anticipated-italic",
   "metadata": {
    "scrolled": true
   },
   "outputs": [
    {
     "name": "stdout",
     "output_type": "stream",
     "text": [
      "[1, 2, 3, 4, 5]\n",
      "[(1, [2, 3, 4]), (2, [2, 3]), (3, [4]), (4, [5]), (5, [1])]\n",
      "[(1, [2, 3, 4]), (2, [2, 3]), (3, [4]), (4, [5]), (5, [1]), (6, [1])]\n"
     ]
    }
   ],
   "source": [
    "g = Graph([1,2,3,4,5])\n",
    "\n",
    "for i,j in [(1,2), (2,2), (1,3), (2,3), (3,4), (1,4), (4,5), (5,1)]:\n",
    "    g.addEdge(i,j)\n",
    "    \n",
    "print(g.V())"
   ]
  },
  {
   "cell_type": "markdown",
   "id": "impaired-joining",
   "metadata": {},
   "source": [
    "Aufgabe 7):"
   ]
  },
  {
   "cell_type": "code",
   "execution_count": 91,
   "id": "electoral-currency",
   "metadata": {},
   "outputs": [
    {
     "name": "stdout",
     "output_type": "stream",
     "text": [
      "2023\n",
      "4\n",
      "8\n",
      "(3, 4)\n",
      "7\n",
      "12\n",
      "[2023, 'Klausur', 'Probe']\n",
      "ur\n"
     ]
    }
   ],
   "source": [
    "L = [[\"Probe\",\"Klausur\",2023], 5, 7, {8:3, 3:8, \"Guten\":\"Morgen\"}, (3,4)]\n",
    "\n",
    "print(L[0][2]) #erste Element(Liste), 3.Stelle\n",
    "print(L[4][1]) #fuenfte Element(Tupel), 2.Stelle\n",
    "print(L[3][3]) #vierte Element(Dictionary), mit dem Key \"3\"\n",
    "print(L[::-1][0]) #letzte Element, 1.Stelle\n",
    "print(L[1:3][1]) # zweite bis vierte Element, von der neuen Liste (!) das 2.Element\n",
    "print(L[1]+L[2]) # zweite Element + dritte Element (Summe wegen Integer)\n",
    "print(L[0][::-1]) # das erste Element, die Stellen werden in umgekehrter Reihenfolge ausgegeben (nicht die Chars!)\n",
    "print(L[0][1][-2:]) # das erste Element, davon die 2. Stelle, davon die Chars ab der vorletzen Stelle\n",
    "\n",
    "#Achte darauf, dass bei Ausgabe von ganzen Elementen auch immer noch die entsprechenden Klammern mitausgegeben werden\n",
    "#Lediglich bei Teilelementen (z.B. einer Liste), fallen die Klammerungen weg"
   ]
  },
  {
   "cell_type": "markdown",
   "id": "broad-indian",
   "metadata": {},
   "source": [
    "Aufgabe 8)"
   ]
  },
  {
   "cell_type": "code",
   "execution_count": 99,
   "id": "humanitarian-poultry",
   "metadata": {},
   "outputs": [],
   "source": [
    "class Supermarktkasse:\n",
    "    \n",
    "    \n",
    "    def __init__(self):\n",
    "        self.schlange = []\n",
    "        \n",
    "    def arrive(self,customer):\n",
    "        self.schlange.append(customer)\n",
    "    \n",
    "    def leave(self):\n",
    "        if self.isEmpty():\n",
    "            return None\n",
    "        else:    \n",
    "            return self.schlange.pop(0)\n",
    "    \n",
    "    def isEmpty(self):\n",
    "        if len(self.schlange) == 0:\n",
    "            return True\n",
    "        else:\n",
    "            return False\n",
    "    \n",
    "    def rank(self):\n",
    "        self.dict = {}\n",
    "        which_rank = 0\n",
    "        for customer in self.schlange:\n",
    "            self.dict[which_rank + 1] = customer\n",
    "            which_rank += 1\n",
    "        return self.dict.items()"
   ]
  },
  {
   "cell_type": "code",
   "execution_count": 100,
   "id": "confidential-heather",
   "metadata": {},
   "outputs": [
    {
     "data": {
      "text/plain": [
       "dict_items([(1, 'Bernd'), (2, 'Christoph')])"
      ]
     },
     "execution_count": 100,
     "metadata": {},
     "output_type": "execute_result"
    }
   ],
   "source": [
    "w = Supermarktkasse()\n",
    "w.arrive(\"Albert\"), w.arrive(\"Bernd\"), w.arrive(\"Christoph\")\n",
    "w.leave() #es sollte der Kunde gehen, der sich zuerst in die Schlange gestellt hat\n",
    "w.rank()"
   ]
  },
  {
   "cell_type": "markdown",
   "id": "automatic-territory",
   "metadata": {},
   "source": [
    "Aufgabe 9)\n",
    "Vor dem Bearbeiten der Aufgabe muss noch eine entsprechende Datei im aktuellen Arbeitsverzeichnis hinterlegt werden, welche ueber entsprechenden Text verfuegt zum Ueberpruefen der Funktionalitaet"
   ]
  },
  {
   "cell_type": "code",
   "execution_count": 149,
   "id": "collect-brook",
   "metadata": {
    "scrolled": true
   },
   "outputs": [
    {
     "name": "stdout",
     "output_type": "stream",
     "text": [
      "['Lorem ipsum dolor sit amet, consetetur sadipscing elitr, sed diam nonumy eirmod tempor invidunt ut labore et dolore magna aliquyam erat, sed diam voluptua. At vero eos et accusam et justo duo dolores et ea rebum. Stet clita kasd gubergren, no sea takimata sanctus est Lorem ipsum dolor sit amet. Lorem ipsum dolor sit amet, consetetur sadipscing elitr, sed diam nonumy eirmod tempor invidunt ut labore et dolore magna aliquyam erat, sed diam voluptua. At vero eos et accusam et justo duo dolores et ea rebum. Stet clita kasd gubergren, no sea takimata sanctus est Lorem ipsum dolor sit amet. Lorem ipsum dolor sit amet, consetetur sadipscing elitr, sed diam nonumy eirmod tempor invidunt ut labore et dolore magna aliquyam erat, sed diam voluptua. At vero eos et accusam et justo duo dolores et ea rebum. Stet clita kasd gubergren, no sea takimata sanctus est Lorem ipsum dolor sit amet.   \\n', '\\n', 'Duis autem vel eum iriure dolor in hendrerit in vulputate velit esse molestie consequat, vel illum dolore eu feugiat nulla facilisis at vero eros et accumsan et iusto odio dignissim qui blandit praesent luptatum zzril delenit augue duis dolore te feugait nulla facilisi. Lorem ipsum dolor sit amet, consectetuer adipiscing elit, sed diam nonummy nibh euismod tincidunt ut laoreet dolore magna aliquam erat volutpat.   \\n', '\\n', 'Ut wisi enim ad minim veniam, quis nostrud exerci tation ullamcorper suscipit lobortis nisl ut aliquip ex ea commodo consequat. Duis autem vel eum iriure dolor in hendrerit in vulputate velit esse molestie consequat, vel illum dolore eu feugiat nulla facilisis at vero eros et accumsan et iusto odio dignissim qui blandit praesent luptatum zzril delenit augue duis dolore te feugait nulla facilisi.   \\n', '\\n', 'Nam liber tempor cum soluta nobis eleifend option congue nihil imperdiet doming id quod mazim placerat facer\\n', '\\n', 'Die Zeile brauch ich zusaetzlich: ja\\n']\n",
      "\n",
      "\n",
      "['Die Zeile brauch ich zusaetzlich: ja\\n']\n",
      "\n",
      "\n"
     ]
    },
    {
     "data": {
      "text/plain": [
       "[1, 3, 5, 7]"
      ]
     },
     "execution_count": 149,
     "metadata": {},
     "output_type": "execute_result"
    }
   ],
   "source": [
    "print([zeile for zeile in open(\"test.txt\").readlines() if len(zeile) > 10 & zeile.endswith(\"e\")])\n",
    "print(\"\\n\") #Damit es nicht so scheisse aussieht\n",
    "print([zeile for zeile in open(\"test.txt\").readlines() if len(zeile.split()) > 5 and \"ja\" in zeile.split()])\n",
    "print(\"\\n\")\n",
    "#FUNKTIONIERT NICHT\n",
    "#print([len(word) for word in [zeile for zeile in open(\"test.txt\").readline().split()]])\n",
    "#print(sum([1 for word in [zeile for zeile in open(\"test.txt\")].split()]))\n",
    "print([index for index, zeile in enumerate(open(\"test.txt\").readlines()) if len(zeile.split())==0])\n",
    "#ES FEHLEN NOCH TEILAUFGABE\n"
   ]
  }
 ],
 "metadata": {
  "kernelspec": {
   "display_name": "Python 3",
   "language": "python",
   "name": "python3"
  },
  "language_info": {
   "codemirror_mode": {
    "name": "ipython",
    "version": 3
   },
   "file_extension": ".py",
   "mimetype": "text/x-python",
   "name": "python",
   "nbconvert_exporter": "python",
   "pygments_lexer": "ipython3",
   "version": "3.9.2"
  }
 },
 "nbformat": 4,
 "nbformat_minor": 5
}
